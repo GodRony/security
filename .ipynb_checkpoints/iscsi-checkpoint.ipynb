{
 "cells": [
  {
   "cell_type": "code",
   "execution_count": null,
   "id": "8565c46a-e37e-4182-881c-2bb2bb89a69f",
   "metadata": {},
   "outputs": [
    {
     "name": "stdout",
     "output_type": "stream",
     "text": [
      "Created symlink /etc/systemd/system/multi-user.target.wants/target.service → /usr/lib/systemd/system/target.service.\n",
      "\u001b[0;1;32m●\u001b[0m target.service - Restore LIO kernel target configuration\u001b[m\n",
      "     Loaded: loaded (\u001b]8;;file://localhost.localdomain/usr/lib/systemd/system/target.service\u0007/usr/lib/systemd/system/target.service\u001b]8;;\u0007; \u001b[0;1;32menabled\u001b[0m; preset: \u001b[0;1;38;5;185md\u001b[m\u001b[7m>\u001b[m\n",
      "     Active: \u001b[0;1;32mactive (exited)\u001b[0m since Thu 2025-10-30 12:33:34 KST; 16ms ago\u001b[m\n",
      "    Process: 19424 ExecStart=/usr/bin/targetctl restore (code=exited, status=0/\u001b[m\u001b[7m>\u001b[m\n",
      "   Main PID: 19424 (code=exited, status=0/SUCCESS)\u001b[m\n",
      "        CPU: 111ms\u001b[m\n",
      "\u001b[m\n",
      "Oct 30 12:33:34 localhost.localdomain systemd[1]: Starting Restore LIO kernel t\u001b[m\u001b[7m>\u001b[m\n",
      "Oct 30 12:33:34 localhost.localdomain target[19424]: No saved config file at /e\u001b[m\u001b[7m>\u001b[m\n",
      "Oct 30 12:33:34 localhost.localdomain systemd[1]: Finished Restore LIO kernel t\u001b[m\u001b[7m>\u001b[m\n"
     ]
    }
   ],
   "source": [
    "import paramiko\n",
    "\n",
    "ip = \"172.16.16.122\"\n",
    "user = \"root\"\n",
    "pw = \"asd123!@\"\n",
    "\n",
    "def cc(cmd):\n",
    "    cli = paramiko.SSHClient()\n",
    "    cli.set_missing_host_key_policy(paramiko.AutoAddPolicy())\n",
    "    cli.connect(ip, username=user, password=pw, port=22)\n",
    "    stdin, stdout, stderr = cli.exec_command(cmd, get_pty=True)\n",
    "    \n",
    "    # stdout을 한 줄씩 읽으면서 실시간 출력\n",
    "    for line in iter(stdout.readline, \"\"):\n",
    "        print(line, end=\"\")  # end=\"\"를 안 하면 줄바꿈이 두 번 됨\n",
    "\n",
    "    # 에러 출력\n",
    "    err = stderr.read().decode()\n",
    "    if err:\n",
    "        print(err)\n",
    "    \n",
    "    cli.close()\n",
    "\n",
    "def install():\n",
    "    cc(\"echo 'install 시작합니다'\")\n",
    "    cc(\"dnf update -y && dnf upgrade -y\")\n",
    "    cc(\"dnf install targetcli -y\")\n",
    "\n",
    "def storage_config_by_targetcli() :\n",
    "    service_start_cmd = \"\"\"\n",
    "    systemctl enable --now target\n",
    "    systemctl status target\n",
    "    targetcli\n",
    "    \"\"\"\n",
    "    cc(service_start_cmd)\n",
    "#    storage_config_cmd = \n",
    "def main() :\n",
    "   # install()\n",
    "    storage_config_by_targetcli()\n",
    "\n",
    "main()"
   ]
  },
  {
   "cell_type": "code",
   "execution_count": null,
   "id": "30806dab-451d-430c-99c9-d3dface9935a",
   "metadata": {},
   "outputs": [],
   "source": []
  }
 ],
 "metadata": {
  "kernelspec": {
   "display_name": "Python 3 (ipykernel)",
   "language": "python",
   "name": "python3"
  },
  "language_info": {
   "codemirror_mode": {
    "name": "ipython",
    "version": 3
   },
   "file_extension": ".py",
   "mimetype": "text/x-python",
   "name": "python",
   "nbconvert_exporter": "python",
   "pygments_lexer": "ipython3",
   "version": "3.13.5"
  }
 },
 "nbformat": 4,
 "nbformat_minor": 5
}
