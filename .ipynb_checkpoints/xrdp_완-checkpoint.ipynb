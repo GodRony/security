{
 "cells": [
  {
   "cell_type": "code",
   "execution_count": 4,
   "id": "1d074c1c-8dc6-4eee-b980-d88f1a8e8f8c",
   "metadata": {},
   "outputs": [
    {
     "name": "stdout",
     "output_type": "stream",
     "text": [
      "=== GNOME 데스크탑 설치 중 ===\n",
      "⚠️ 오류 발생: Removed \"/etc/systemd/system/default.target\".\n",
      "Created symlink /etc/systemd/system/default.target → /usr/lib/systemd/system/graphical.target.\n",
      "\n",
      "✅ GNOME 데스크탑 설치 완료\n",
      "=== XRDP 설치 중 ===\n",
      "✅ XRDP 설치 완료\n",
      "=== 사용자 team1 생성 ===\n",
      "✅ 사용자 생성 완료\n",
      "=== team1 사용자 XRDP 그룹 추가 ===\n",
      "✅ 그룹 추가 및 서비스 재시작 완료\n",
      "모든 설정 완료. 이제 원격 데스크탑 접속 가능!\n"
     ]
    }
   ],
   "source": [
    "import paramiko\n",
    "\n",
    "ip = \"172.16.16.122\"\n",
    "user = \"root\"\n",
    "pw = \"asd123!@\"\n",
    "\n",
    "def cc(cmd):\n",
    "    \"\"\"SSH로 명령을 실행하고 결과를 출력\"\"\"\n",
    "    cli = paramiko.SSHClient()\n",
    "    cli.set_missing_host_key_policy(paramiko.AutoAddPolicy())\n",
    "    cli.connect(ip, username=user, password=pw, port=22)\n",
    "    stdin, stdout, stderr = cli.exec_command(cmd)\n",
    "    out = stdout.read().decode()\n",
    "    err = stderr.read().decode()\n",
    "    cli.close()\n",
    "    if err:\n",
    "        print(\"⚠️ 오류 발생:\", err)\n",
    "    return out.strip()\n",
    "\n",
    "def install_gnome():\n",
    "    print(\"=== GNOME 데스크탑 설치 중 ===\")\n",
    "    # 기본 GNOME 데스크탑 설치\n",
    "    cc(\"dnf groupinstall -y 'Server with GUI'\")\n",
    "    # 부팅 시 GUI 모드로 설정\n",
    "    cc(\"systemctl set-default graphical.target\")\n",
    "    cc(\"systemctl isolate graphical.target\")\n",
    "    print(\"✅ GNOME 데스크탑 설치 완료\")\n",
    "    \n",
    "def xrdp_install():\n",
    "    print(\"=== XRDP 설치 중 ===\")\n",
    "    cc(\"dnf install -y epel-release\")\n",
    "    cc(\"dnf install -y xrdp \")\n",
    "    cc(\"systemctl enable --now xrdp\")\n",
    "    print(\"✅ XRDP 설치 완료\")\n",
    "\n",
    "def create_user(username=\"team1\", password=\"asd123!@\"):\n",
    "    print(f\"=== 사용자 {username} 생성 ===\")\n",
    "    cc(f\"id {username} || useradd -m -s /bin/bash {username}\")\n",
    "    cc(f\"echo '{username}:{password}' | chpasswd\")\n",
    "    print(\"✅ 사용자 생성 완료\")\n",
    "\n",
    "\n",
    "def xrdp_group_add(username=\"team1\"):\n",
    "    print(f\"=== {username} 사용자 XRDP 그룹 추가 ===\")\n",
    "    cc(f\"usermod -aG xrdp {username}\")\n",
    "    cc(\"systemctl restart xrdp\")\n",
    "    print(\"✅ 그룹 추가 및 서비스 재시작 완료\")\n",
    "\n",
    "def main():\n",
    "    install_gnome()\n",
    "    xrdp_install()\n",
    "    create_user(\"team1\", \"asd123!@\")\n",
    "    xrdp_group_add(\"team1\")\n",
    "    print(\"모든 설정 완료. 이제 원격 데스크탑 접속 가능!\")\n",
    "\n",
    "main()\n"
   ]
  }
 ],
 "metadata": {
  "kernelspec": {
   "display_name": "Python 3 (ipykernel)",
   "language": "python",
   "name": "python3"
  },
  "language_info": {
   "codemirror_mode": {
    "name": "ipython",
    "version": 3
   },
   "file_extension": ".py",
   "mimetype": "text/x-python",
   "name": "python",
   "nbconvert_exporter": "python",
   "pygments_lexer": "ipython3",
   "version": "3.13.5"
  }
 },
 "nbformat": 4,
 "nbformat_minor": 5
}
