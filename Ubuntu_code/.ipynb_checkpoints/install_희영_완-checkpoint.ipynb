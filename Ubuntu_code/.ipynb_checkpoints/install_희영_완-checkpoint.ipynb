{
 "cells": [
  {
   "cell_type": "code",
   "execution_count": null,
   "id": "5df7e7db-8e63-4440-9d7b-d659843c557b",
   "metadata": {},
   "outputs": [],
   "source": [
    "import paramiko\n",
    "\n",
    "# SSH 접속 정보\n",
    "ip = \"172.16.0.18\"\n",
    "user = \"root\"\n",
    "pw = \"asd123!@\"\n",
    "\n",
    "def cc(command):\n",
    "    \"\"\"SSH로 명령을 실행하고 결과를 출력\"\"\"\n",
    "    cli = paramiko.SSHClient()\n",
    "    cli.set_missing_host_key_policy(paramiko.AutoAddPolicy())\n",
    "    cli.connect(ip, username=user, password=pw, port=22)\n",
    "    stdin, stdout, stderr = cli.exec_command(command)\n",
    "    out = stdout.read().decode()\n",
    "    err = stderr.read().decode()\n",
    "    cli.close()\n",
    "    if err:\n",
    "        print(\"⚠️ 오류 발생:\", err)\n",
    "    return out.strip()\n",
    "\n",
    "def install_tools():\n",
    "    cmd = \"\"\"\n",
    "apt update -y\n",
    "apt upgrade -y\n",
    "apt install -y vim wget network-manager\n",
    "\"\"\"\n",
    "    cc(cmd)\n",
    "    print(\"기본 툴 설치 완료\")\n",
    "\n",
    "def install_ssh():\n",
    "    cmd = \"\"\"\n",
    "apt install -y openssh-server\n",
    "systemctl enable ssh\n",
    "systemctl start ssh\n",
    "\"\"\"\n",
    "    cc(cmd)\n",
    "    print(\"SSH 설치 및 서비스 시작 완료\")\n",
    "\n",
    "def config_ufw():\n",
    "    cmd = \"\"\"\n",
    "apt install -y ufw\n",
    "ufw allow ssh\n",
    "ufw --force enable\n",
    "shutdown -r now\n",
    "\"\"\"\n",
    "    cc(cmd)\n",
    "    print(\"UFW 설정 완료, 시스템 재부팅 중\")\n",
    "\n",
    "def go():\n",
    "    install_ssh()\n",
    "    config_ufw()\n",
    "\n",
    "if __name__ == \"__main__\":\n",
    "    go()\n"
   ]
  }
 ],
 "metadata": {
  "kernelspec": {
   "display_name": "Python 3 (ipykernel)",
   "language": "python",
   "name": "python3"
  },
  "language_info": {
   "codemirror_mode": {
    "name": "ipython",
    "version": 3
   },
   "file_extension": ".py",
   "mimetype": "text/x-python",
   "name": "python",
   "nbconvert_exporter": "python",
   "pygments_lexer": "ipython3",
   "version": "3.13.9"
  }
 },
 "nbformat": 4,
 "nbformat_minor": 5
}
