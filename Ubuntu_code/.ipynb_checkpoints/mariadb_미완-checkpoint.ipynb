{
 "cells": [
  {
   "cell_type": "code",
   "execution_count": null,
   "id": "775f832e-45bc-4d6c-9752-f625b31287cd",
   "metadata": {},
   "outputs": [],
   "source": [
    "import paramiko\n",
    "import subprocess\n",
    "\n",
    "ip = \"172.16.16.122\"\n",
    "user = \"root\"\n",
    "pw = \"asd123!@\"\n",
    "cmd = \"\"\n",
    "\n",
    "def cc(cmd):\n",
    "    cli = paramiko.SSHClient()\n",
    "    cli.set_missing_host_key_policy(paramiko.AutoAddPolicy())\n",
    "    cli.connect(ip, username=user, password=pw, port=22)\n",
    "    stdin, stdout, stderr = cli.exec_command(cmd, get_pty=True)  # ← 여기가 핵심\n",
    "    out = stdout.read().decode()\n",
    "    err = stderr.read().decode()\n",
    "    print(out if out else err)\n",
    "    cli.close()\n",
    "\n",
    "def install_expect():\n",
    "    cc(\"apt install -y apache2 expect\")\n",
    "\n",
    "def install_mariaDB():\n",
    "    cc(\"apt install -y mariadb-server mariadb-client\")\n",
    "\n",
    "def install_php_ftp():\n",
    "    cc(\"pt install -y php-fpm php-mysql php-xml php-mbstring php-bcmath php-intl php-zip php-curl php-gd php-pear php-dev\")\n",
    "    \n",
    "def go():\n",
    "    install_ftp()\n",
    "    start_ftp()\n",
    "\n",
    "go()\n"
   ]
  }
 ],
 "metadata": {
  "kernelspec": {
   "display_name": "Python 3 (ipykernel)",
   "language": "python",
   "name": "python3"
  },
  "language_info": {
   "codemirror_mode": {
    "name": "ipython",
    "version": 3
   },
   "file_extension": ".py",
   "mimetype": "text/x-python",
   "name": "python",
   "nbconvert_exporter": "python",
   "pygments_lexer": "ipython3",
   "version": "3.13.5"
  }
 },
 "nbformat": 4,
 "nbformat_minor": 5
}
