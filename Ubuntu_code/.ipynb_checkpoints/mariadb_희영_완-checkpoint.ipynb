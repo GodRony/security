{
 "cells": [
  {
   "cell_type": "code",
   "execution_count": 1,
   "id": "775f832e-45bc-4d6c-9752-f625b31287cd",
   "metadata": {},
   "outputs": [
    {
     "ename": "SyntaxError",
     "evalue": "invalid syntax (2524190979.py, line 28)",
     "output_type": "error",
     "traceback": [
      "  \u001b[36mCell\u001b[39m\u001b[36m \u001b[39m\u001b[32mIn[1]\u001b[39m\u001b[32m, line 28\u001b[39m\n\u001b[31m    \u001b[39m\u001b[31mcmd =\u001b[39m\n         ^\n\u001b[31mSyntaxError\u001b[39m\u001b[31m:\u001b[39m invalid syntax\n"
     ]
    }
   ],
   "source": [
    "import paramiko\n",
    "import subprocess\n",
    "\n",
    "ip = \"192.168.0.100\"\n",
    "user = \"root\"\n",
    "pw = \"asd123!@\"\n",
    "cmd = \"\"\n",
    "\n",
    "def cc(cmd):\n",
    "    cli = paramiko.SSHClient()\n",
    "    cli.set_missing_host_key_policy(paramiko.AutoAddPolicy())\n",
    "    cli.connect(ip, username=user, password=pw, port=22)\n",
    "    stdin, stdout, stderr = cli.exec_command(cmd, get_pty=True)  # ← 여기가 핵심\n",
    "    out = stdout.read().decode()\n",
    "    err = stderr.read().decode()\n",
    "    print(out if out else err)\n",
    "    cli.close()\n",
    "\n",
    "def install_mariaDB():\n",
    "    cc(\"apt install -y apache2 expect\")\n",
    "    cc(\"apt install -y mariadb-server\")\n",
    "    cc(\"systemctl enable --now mariadb\")\n",
    "    \n",
    "def set_init():\n",
    "    print(cc(\"ls -l\"))\n",
    "    print(\"secure_installation 시작\")\n",
    "    MYSQL_ROOT_PASSWORD=\"asd123!@\"\n",
    "    cmd = f'''\n",
    "cat <<EOF > /root/mysql_secure.exp\n",
    "#!/usr/bin/expect -f\n",
    "set timeout -1\n",
    "set password [lindex $argv 0]\n",
    "\n",
    "spawn mysql_secure_installation\n",
    "\n",
    "expect \"Enter current password for root (enter for none):\"\n",
    "send \"\\\\r\"\n",
    "expect \"Switch to unix_socket authentication\"\n",
    "send \"Y\\\\r\"\n",
    "expect \"Change the root password?\"\n",
    "send \"y\\\\r\"\n",
    "expect \"New password:\"\n",
    "send \"{MYSQL_ROOT_PASSWORD}\\\\r\"\n",
    "expect \"Re-enter new password:\"\n",
    "send \"{MYSQL_ROOT_PASSWORD}\\\\r\"\n",
    "expect \"Remove anonymous users?\"\n",
    "send \"Y\\\\r\"\n",
    "expect \"Disallow root login remotely?\"\n",
    "send \"Y\\\\r\"\n",
    "expect \"Remove test database and access to it?\"\n",
    "send \"Y\\\\r\"\n",
    "expect \"Reload privilege tables now?\"\n",
    "send \"Y\\\\r\"\n",
    "expect eof\n",
    "EOF\n",
    "\n",
    "chmod +x /root/mysql_secure.exp\n",
    "/usr/bin/expect /root/mysql_secure.exp \"{MYSQL_ROOT_PASSWORD}\"\n",
    "'''\n",
    "    print(cc(cmd))\n",
    "    print(\"secure_installation 완료\")\n",
    "\n",
    "def test():\n",
    "    print(\"test\")\n",
    "def go():\n",
    "   # install_mariaDB()\n",
    "    set_init()\n",
    "    test()\n",
    "\n",
    "go()\n"
   ]
  },
  {
   "cell_type": "code",
   "execution_count": null,
   "id": "3165b41c-7aa5-4b24-b6e0-c4dda9aac9c7",
   "metadata": {},
   "outputs": [],
   "source": []
  }
 ],
 "metadata": {
  "kernelspec": {
   "display_name": "Python 3 (ipykernel)",
   "language": "python",
   "name": "python3"
  },
  "language_info": {
   "codemirror_mode": {
    "name": "ipython",
    "version": 3
   },
   "file_extension": ".py",
   "mimetype": "text/x-python",
   "name": "python",
   "nbconvert_exporter": "python",
   "pygments_lexer": "ipython3",
   "version": "3.13.9"
  }
 },
 "nbformat": 4,
 "nbformat_minor": 5
}
