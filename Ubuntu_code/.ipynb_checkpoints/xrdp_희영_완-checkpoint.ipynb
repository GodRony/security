{
 "cells": [
  {
   "cell_type": "code",
   "execution_count": 2,
   "id": "882738ce-5f01-4f54-9031-b6c2bed9c519",
   "metadata": {},
   "outputs": [
    {
     "ename": "KeyboardInterrupt",
     "evalue": "",
     "output_type": "error",
     "traceback": [
      "\u001b[31m---------------------------------------------------------------------------\u001b[39m",
      "\u001b[31mKeyboardInterrupt\u001b[39m                         Traceback (most recent call last)",
      "\u001b[36mCell\u001b[39m\u001b[36m \u001b[39m\u001b[32mIn[2]\u001b[39m\u001b[32m, line 38\u001b[39m\n\u001b[32m     35\u001b[39m     adduser_xrdp()\n\u001b[32m     36\u001b[39m     set_desktop_env()\n\u001b[32m---> \u001b[39m\u001b[32m38\u001b[39m \u001b[43mgo\u001b[49m\u001b[43m(\u001b[49m\u001b[43m)\u001b[49m\n",
      "\u001b[36mCell\u001b[39m\u001b[36m \u001b[39m\u001b[32mIn[2]\u001b[39m\u001b[32m, line 33\u001b[39m, in \u001b[36mgo\u001b[39m\u001b[34m()\u001b[39m\n\u001b[32m     32\u001b[39m \u001b[38;5;28;01mdef\u001b[39;00m\u001b[38;5;250m \u001b[39m\u001b[34mgo\u001b[39m():\n\u001b[32m---> \u001b[39m\u001b[32m33\u001b[39m     \u001b[43minstall_xrdp\u001b[49m\u001b[43m(\u001b[49m\u001b[43m)\u001b[49m\n\u001b[32m     34\u001b[39m     start_xrdp()\n\u001b[32m     35\u001b[39m     adduser_xrdp()\n",
      "\u001b[36mCell\u001b[39m\u001b[36m \u001b[39m\u001b[32mIn[2]\u001b[39m\u001b[32m, line 20\u001b[39m, in \u001b[36minstall_xrdp\u001b[39m\u001b[34m()\u001b[39m\n\u001b[32m     19\u001b[39m \u001b[38;5;28;01mdef\u001b[39;00m\u001b[38;5;250m \u001b[39m\u001b[34minstall_xrdp\u001b[39m():\n\u001b[32m---> \u001b[39m\u001b[32m20\u001b[39m     \u001b[43mcc\u001b[49m\u001b[43m(\u001b[49m\u001b[33;43m\"\u001b[39;49m\u001b[33;43mapt install xrdp -y\u001b[39;49m\u001b[33;43m\"\u001b[39;49m\u001b[43m)\u001b[49m\n",
      "\u001b[36mCell\u001b[39m\u001b[36m \u001b[39m\u001b[32mIn[2]\u001b[39m\u001b[32m, line 12\u001b[39m, in \u001b[36mcc\u001b[39m\u001b[34m(cmd)\u001b[39m\n\u001b[32m     10\u001b[39m cli = paramiko.SSHClient()\n\u001b[32m     11\u001b[39m cli.set_missing_host_key_policy(paramiko.AutoAddPolicy())\n\u001b[32m---> \u001b[39m\u001b[32m12\u001b[39m \u001b[43mcli\u001b[49m\u001b[43m.\u001b[49m\u001b[43mconnect\u001b[49m\u001b[43m(\u001b[49m\u001b[43mip\u001b[49m\u001b[43m,\u001b[49m\u001b[43m \u001b[49m\u001b[43musername\u001b[49m\u001b[43m=\u001b[49m\u001b[43muser\u001b[49m\u001b[43m,\u001b[49m\u001b[43m \u001b[49m\u001b[43mpassword\u001b[49m\u001b[43m=\u001b[49m\u001b[43mpw\u001b[49m\u001b[43m,\u001b[49m\u001b[43m \u001b[49m\u001b[43mport\u001b[49m\u001b[43m=\u001b[49m\u001b[32;43m22\u001b[39;49m\u001b[43m)\u001b[49m\n\u001b[32m     13\u001b[39m stdin, stdout, stderr = cli.exec_command(cmd, get_pty=\u001b[38;5;28;01mTrue\u001b[39;00m)  \u001b[38;5;66;03m# ← 여기가 핵심\u001b[39;00m\n\u001b[32m     14\u001b[39m out = stdout.read().decode()\n",
      "\u001b[36mFile \u001b[39m\u001b[32m~/miniconda3/lib/python3.13/site-packages/paramiko/client.py:384\u001b[39m, in \u001b[36mSSHClient.connect\u001b[39m\u001b[34m(self, hostname, port, username, password, pkey, key_filename, timeout, allow_agent, look_for_keys, compress, sock, gss_auth, gss_kex, gss_deleg_creds, gss_host, banner_timeout, auth_timeout, channel_timeout, gss_trust_dns, passphrase, disabled_algorithms, transport_factory, auth_strategy)\u001b[39m\n\u001b[32m    382\u001b[39m     \u001b[38;5;28;01mexcept\u001b[39;00m:\n\u001b[32m    383\u001b[39m         \u001b[38;5;28;01mpass\u001b[39;00m\n\u001b[32m--> \u001b[39m\u001b[32m384\u001b[39m \u001b[43msock\u001b[49m\u001b[43m.\u001b[49m\u001b[43mconnect\u001b[49m\u001b[43m(\u001b[49m\u001b[43maddr\u001b[49m\u001b[43m)\u001b[49m\n\u001b[32m    385\u001b[39m \u001b[38;5;66;03m# Break out of the loop on success\u001b[39;00m\n\u001b[32m    386\u001b[39m \u001b[38;5;28;01mbreak\u001b[39;00m\n",
      "\u001b[31mKeyboardInterrupt\u001b[39m: "
     ]
    }
   ],
   "source": [
    "import paramiko\n",
    "import subprocess\n",
    "\n",
    "ip = \"192.168.0.17\"\n",
    "user = \"root\"\n",
    "pw = \"asd123!@\"\n",
    "cmd = \"\"\n",
    "\n",
    "def cc(cmd):\n",
    "    cli = paramiko.SSHClient()\n",
    "    cli.set_missing_host_key_policy(paramiko.AutoAddPolicy())\n",
    "    cli.connect(ip, username=user, password=pw, port=22)\n",
    "    stdin, stdout, stderr = cli.exec_command(cmd, get_pty=True)  # ← 여기가 핵심\n",
    "    out = stdout.read().decode()\n",
    "    err = stderr.read().decode()\n",
    "    print(out if out else err)\n",
    "    cli.close()\n",
    "\n",
    "def install_xrdp():\n",
    "    cc(\"apt install xrdp -y\")\n",
    "\n",
    "def start_xrdp():\n",
    "    cc(\"systemctl enable xrdp; systemctl start xrdp\")\n",
    "    \n",
    "def adduser_xrdp():\n",
    "    cc(\"cd ~/.vnc\")\n",
    "    cc(\"adduser xrdp ssl-cert\")\n",
    "\n",
    "def set_desktop_env():\n",
    "    cc('echo \"startplasma-x11\" > ~/.xession')\n",
    "    \n",
    "def go():\n",
    "    install_xrdp()\n",
    "    start_xrdp()\n",
    "    adduser_xrdp()\n",
    "    set_desktop_env()\n",
    "\n",
    "go()"
   ]
  }
 ],
 "metadata": {
  "kernelspec": {
   "display_name": "Python 3 (ipykernel)",
   "language": "python",
   "name": "python3"
  },
  "language_info": {
   "codemirror_mode": {
    "name": "ipython",
    "version": 3
   },
   "file_extension": ".py",
   "mimetype": "text/x-python",
   "name": "python",
   "nbconvert_exporter": "python",
   "pygments_lexer": "ipython3",
   "version": "3.13.9"
  }
 },
 "nbformat": 4,
 "nbformat_minor": 5
}
