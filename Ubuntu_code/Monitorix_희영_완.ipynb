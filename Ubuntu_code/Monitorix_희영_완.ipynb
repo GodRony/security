{
 "cells": [
  {
   "cell_type": "code",
   "execution_count": null,
   "id": "0f6f883a-a4e4-4cb1-a48f-d60d3038d3c0",
   "metadata": {},
   "outputs": [
    {
     "name": "stdout",
     "output_type": "stream",
     "text": [
      "total 40\n",
      "drwxr-xr-x 2 root root 4096 Nov  1 05:56 Desktop\n",
      "drwxr-xr-x 2 root root 4096 Nov  1 05:56 Documents\n",
      "drwxr-xr-x 2 root root 4096 Nov  1 05:56 Downloads\n",
      "drwxr-xr-x 2 root root 4096 Nov  1 05:56 Music\n",
      "drwxr-xr-x 2 root root 4096 Nov  1 05:56 Pictures\n",
      "drwxr-xr-x 2 root root 4096 Nov  1 05:56 Public\n",
      "drwx------ 4 root root 4096 Nov  1 05:31 snap\n",
      "drwxr-xr-x 2 root root 4096 Nov  1 05:56 Templates\n",
      "drwxr-xr-t 2 root root 4096 Nov  1 05:56 thinclient_drives\n",
      "drwxr-xr-x 2 root root 4096 Nov  1 05:56 Videos\n",
      "\n",
      "=== 서비스 재시작 ===\n",
      "\n",
      "=== 서비스 상태 확인 ===\n"
     ]
    }
   ],
   "source": [
    "import paramiko\n",
    "import subprocess\n",
    "\n",
    "ip = \"192.168.0.100\"\n",
    "user = \"root\"\n",
    "pw = \"asd123!@\"\n",
    "cmd = \"\"\n",
    "\n",
    "\n",
    "def cc(cmd):\n",
    "    cli = paramiko.SSHClient()\n",
    "    cli.set_missing_host_key_policy(paramiko.AutoAddPolicy())\n",
    "    cli.connect(ip, username=user, password=pw, port=22)\n",
    "    (stdin, stdout, stderr) = cli.exec_command(cmd,get_pty = True)\n",
    "    out = stdout.read().decode()\n",
    "    err = stderr.read().decode()\n",
    "    cli.close()\n",
    "    return out + err\n",
    "\n",
    "\n",
    "def install_monitorix():\n",
    "    print(cc(\"ls -l\"))\n",
    "    cmd = \"\"\"\n",
    "        apt update\n",
    "        apt install apache2 -y\n",
    "        apt install -y monitorix\n",
    "    \"\"\"\n",
    "\n",
    "    cc(cmd)\n",
    "\n",
    "    cc(\"systemctl stop ufw\")\n",
    "    print(\"=== 서비스 재시작 ===\")\n",
    "   cc(\"systemctl restart monitorix\")\n",
    "\n",
    "    print(\"=== 서비스 상태 확인 ===\")\n",
    "    cc(\"systemctl status monitorix\")\n",
    "\n",
    "    print(\"http://ip:8080/monitorix로 접속하세요\")\n",
    "\n",
    "def go():\n",
    "    install_monitorix()\n",
    "\n",
    "go()"
   ]
  },
  {
   "cell_type": "code",
   "execution_count": null,
   "id": "de5f7786-cbcc-4e7b-a240-0c6973c1f34a",
   "metadata": {},
   "outputs": [],
   "source": []
  }
 ],
 "metadata": {
  "kernelspec": {
   "display_name": "Python 3 (ipykernel)",
   "language": "python",
   "name": "python3"
  },
  "language_info": {
   "codemirror_mode": {
    "name": "ipython",
    "version": 3
   },
   "file_extension": ".py",
   "mimetype": "text/x-python",
   "name": "python",
   "nbconvert_exporter": "python",
   "pygments_lexer": "ipython3",
   "version": "3.13.9"
  }
 },
 "nbformat": 4,
 "nbformat_minor": 5
}
