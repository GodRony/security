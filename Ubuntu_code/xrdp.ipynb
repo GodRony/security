{
 "cells": [
  {
   "cell_type": "code",
   "execution_count": null,
   "id": "882738ce-5f01-4f54-9031-b6c2bed9c519",
   "metadata": {},
   "outputs": [],
   "source": [
    "import paramiko\n",
    "import subprocess\n",
    "\n",
    "ip = \"172.16.16.122\"\n",
    "user = \"root\"\n",
    "pw = \"asd123!@\"\n",
    "cmd = \"\"\n",
    "\n",
    "def cc(cmd):\n",
    "    cli = paramiko.SSHClient()\n",
    "    cli.set_missing_host_key_policy(paramiko.AutoAddPolicy())\n",
    "    cli.connect(ip, username=user, password=pw, port=22)\n",
    "    stdin, stdout, stderr = cli.exec_command(cmd, get_pty=True)  # ← 여기가 핵심\n",
    "    out = stdout.read().decode()\n",
    "    err = stderr.read().decode()\n",
    "    print(out if out else err)\n",
    "    cli.close()\n",
    "\n",
    "def install_xrdp():\n",
    "    cc(\"apt install xrdp -y\")\n",
    "\n",
    "def start_xrdp():\n",
    "    cc(\"systemctl enable xrdp; systemctl start xrdp\")\n",
    "    \n",
    "def adduser_xrdp():\n",
    "    cc(\"cd ~/.vnc\")\n",
    "    cc(\"adduser xrdp ssl-cert\")\n",
    "\n",
    "def set_desktop_env():\n",
    "    cc('echo \"startplasma-x11\" > ~/.xession')\n",
    "    \n",
    "def go():\n",
    "    install_ftp()\n",
    "    start_ftp()\n",
    "    adduser_xrdp()\n",
    "    set_desktop_env()\n",
    "\n",
    "go()"
   ]
  }
 ],
 "metadata": {
  "kernelspec": {
   "display_name": "Python 3 (ipykernel)",
   "language": "python",
   "name": "python3"
  },
  "language_info": {
   "codemirror_mode": {
    "name": "ipython",
    "version": 3
   },
   "file_extension": ".py",
   "mimetype": "text/x-python",
   "name": "python",
   "nbconvert_exporter": "python",
   "pygments_lexer": "ipython3",
   "version": "3.13.5"
  }
 },
 "nbformat": 4,
 "nbformat_minor": 5
}
