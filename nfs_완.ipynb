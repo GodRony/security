{
 "cells": [
  {
   "cell_type": "code",
   "execution_count": 4,
   "id": "dfeb6a2c-9e04-447d-b4ef-e23e7f1afa6f",
   "metadata": {},
   "outputs": [
    {
     "name": "stdout",
     "output_type": "stream",
     "text": [
      "=== NFS 설치 및 공유 디렉토리 생성 ===\n",
      "✅ NFS 설치 완료\n",
      "=== NFS 서비스 시작 ===\n",
      "✅ NFS 서비스 활성화 완료\n",
      "=== NFS 클라이언트 마운트 ===\n",
      "⚠️ 오류 발생: mount.nfs: mounting 172.16.16.100:/mnt/nfs_share failed, reason given by server: No such file or directory\n",
      "\n",
      "✅ NFS 마운트 완료\n"
     ]
    }
   ],
   "source": [
    "import paramiko\n",
    "\n",
    "ip = \"172.16.16.122\"   # 원격 서버 IP\n",
    "user = \"root\"\n",
    "pw = \"asd123!@\"\n",
    "nfs_ip =  \"172.16.16.122\"  ## nfs를 사용할 ip\n",
    "\n",
    "def cc(cmd):\n",
    "    \"\"\"SSH로 명령을 실행하고 결과를 출력\"\"\"\n",
    "    cli = paramiko.SSHClient()\n",
    "    cli.set_missing_host_key_policy(paramiko.AutoAddPolicy())\n",
    "    cli.connect(ip, username=user, password=pw, port=22)\n",
    "    stdin, stdout, stderr = cli.exec_command(cmd)\n",
    "    out = stdout.read().decode()\n",
    "    err = stderr.read().decode()\n",
    "    cli.close()\n",
    "    if err:\n",
    "        print(\"⚠️ 오류 발생:\", err)\n",
    "    return out.strip()\n",
    "\n",
    "def nfs_install():\n",
    "    print(\"=== NFS 설치 및 공유 디렉토리 생성 ===\")\n",
    "    cc(\"dnf -y install nfs-utils\")\n",
    "    cc(\"mkdir -p /mnt/nfs_share\")\n",
    "    # exports 설정\n",
    "    cc(f'echo \"/mnt/nfs_share {nfs_ip}(rw,sync,no_root_squash)\" >> /etc/exports')\n",
    "    print(\"✅ NFS 설치 완료\")\n",
    "\n",
    "def nfs_service():\n",
    "    print(\"=== NFS 서비스 시작 ===\")\n",
    "    cc(\"systemctl enable nfs-server\")\n",
    "    cc(\"systemctl start nfs-server\")\n",
    "    cc(\"exportfs -v\")  # 공유 확인\n",
    "    print(\"✅ NFS 서비스 활성화 완료\")\n",
    "\n",
    "## 클라에서만 설치\n",
    "def install_mount(server_ip):\n",
    "    print(\"=== NFS 클라이언트 마운트 ===\")\n",
    "    cc(\"dnf -y install nfs-utils\")   # 클라이언트에도 설치 필요\n",
    "    cc(\"mkdir -p /mnt/nfs_data\")\n",
    "    cc(f\"mount -t nfs {server_ip}:/mnt/nfs_share /mnt/nfs_data\")\n",
    "    print(\"✅ NFS 마운트 완료\")\n",
    "\n",
    "def main():\n",
    "    nfs_install()\n",
    "    nfs_service()\n",
    "    install_mount(nfs_ip)\n",
    "\n",
    "main()\n"
   ]
  },
  {
   "cell_type": "code",
   "execution_count": null,
   "id": "3ae46257-e768-4329-802c-e591f3cc18ce",
   "metadata": {},
   "outputs": [],
   "source": []
  }
 ],
 "metadata": {
  "kernelspec": {
   "display_name": "Python 3 (ipykernel)",
   "language": "python",
   "name": "python3"
  },
  "language_info": {
   "codemirror_mode": {
    "name": "ipython",
    "version": 3
   },
   "file_extension": ".py",
   "mimetype": "text/x-python",
   "name": "python",
   "nbconvert_exporter": "python",
   "pygments_lexer": "ipython3",
   "version": "3.13.5"
  }
 },
 "nbformat": 4,
 "nbformat_minor": 5
}
