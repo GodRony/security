{
 "cells": [
  {
   "cell_type": "code",
   "execution_count": null,
   "id": "30b173eb-6686-46dc-bc75-2400fe5743cd",
   "metadata": {},
   "outputs": [],
   "source": [
    "def nfs_setup(nfs_client_ip=\"172.16.27.100/16\", nfs_server_ip=\"172.16.27.175\"):  # IP 변경 필요\n",
    "    \"\"\"\n",
    "    Ubuntu NFS 서버 설치, 공유 디렉토리 생성 및 클라이언트 마운트\n",
    "    nfs_server_ip : 서버로 사용할 IP\n",
    "    nfs_client_ip : 클라이언트에서 접근 허용할 IP (예: 172.16.27.175/24)\n",
    "    \"\"\"\n",
    "    ssh = paramiko.SSHClient()\n",
    "    ssh.set_missing_host_key_policy(paramiko.AutoAddPolicy())\n",
    "    ssh.connect(ip, username=user, password=pw, port=22)\n",
    "\n",
    "    def run_remote(cmd, show=True):\n",
    "        stdin, stdout, stderr = ssh.exec_command(cmd)\n",
    "        for line in iter(stdout.readline, \"\"):\n",
    "            if show:\n",
    "                print(line, end=\"\")\n",
    "        err = stderr.read().decode()\n",
    "        if err and show:\n",
    "            print(\"[ERROR]\", err)\n",
    "        return err\n",
    "\n",
    "    print(\"=== Ubuntu NFS 서버 설치 및 공유 디렉토리 설정 ===\")\n",
    "    run_remote(\"apt update -y\")\n",
    "    run_remote(\"apt install -y nfs-kernel-server nfs-common\")\n",
    "\n",
    "    # 공유 디렉토리 생성\n",
    "    run_remote(\"mkdir -p /mnt/nfs_share\")\n",
    "    run_remote(\"chown nobody:nogroup /mnt/nfs_share\")\n",
    "    run_remote(\"chmod 777 /mnt/nfs_share\")\n",
    "\n",
    "    # /etc/exports 설정\n",
    "    run_remote(f'echo \"/mnt/nfs_share {nfs_client_ip}(rw,sync,no_root_squash)\" > /etc/exports')\n",
    "\n",
    "    # 서비스 활성화\n",
    "    run_remote(\"systemctl enable nfs-kernel-server\")\n",
    "    run_remote(\"systemctl restart nfs-kernel-server\")\n",
    "    run_remote(\"exportfs -v\")  # 공유 확인\n",
    "    print(\" NFS 서버 설정 완료\")\n",
    "\n",
    "    # 클라이언트 마운트\n",
    "    print(\"=== NFS 클라이언트 마운트 ===\")\n",
    "    run_remote(\"apt install -y nfs-common\")\n",
    "    run_remote(\"mkdir -p /mnt/nfs_data\")\n",
    "    run_remote(f\"mount -t nfs {nfs_server_ip}:/mnt/nfs_share /mnt/nfs_data\")\n",
    "    print(\" NFS 클라이언트 마운트 완료\")\n",
    "\n",
    "    ssh.close()"
   ]
  }
 ],
 "metadata": {
  "kernelspec": {
   "display_name": "Python 3 (ipykernel)",
   "language": "python",
   "name": "python3"
  },
  "language_info": {
   "codemirror_mode": {
    "name": "ipython",
    "version": 3
   },
   "file_extension": ".py",
   "mimetype": "text/x-python",
   "name": "python",
   "nbconvert_exporter": "python",
   "pygments_lexer": "ipython3",
   "version": "3.13.5"
  }
 },
 "nbformat": 4,
 "nbformat_minor": 5
}
