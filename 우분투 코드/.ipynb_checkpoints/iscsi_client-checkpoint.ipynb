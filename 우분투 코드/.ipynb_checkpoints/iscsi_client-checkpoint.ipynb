{
 "cells": [
  {
   "cell_type": "code",
   "execution_count": null,
   "id": "02e357ac-5523-4894-8b48-dd815a6384be",
   "metadata": {},
   "outputs": [],
   "source": [
    "def get_client_iqn():\n",
    "    print(\"클라이언트 IQN 확인 중...\")\n",
    "    stdout = cc(\"cat /etc/iscsi/initiatorname.iscsi\")\n",
    "    for line in stdout:\n",
    "        line = line.strip()\n",
    "        if line.startswith(\"InitiatorName=\"):\n",
    "            iqn = line.split(\"=\")[1]\n",
    "            print(f\"클라이언트 IQN: {iqn}\")\n",
    "            return iqn\n",
    "    print(\"IQN을 확인할 수 없습니다.\")\n",
    "    return None\n",
    "\n",
    "# iSCSI Target discovery 및 로그인\n",
    "def iscsi_login(target_ip=\"172.16.27.175\", target_port=3260):  #서버의 IP\n",
    "    print(f\"iSCSI 타겟 {target_ip} 검색 중...\")\n",
    "    stdout = cc(f\"iscsiadm -m discovery -t sendtargets -p {target_ip}:{target_port}\")\n",
    "    pp(stdout)\n",
    "\n",
    "    print(f\"iSCSI 타겟 {target_ip} 로그인 중...\")\n",
    "    stdout = cc(f\"iscsiadm -m node -T {target_ip}:3260 -l\")\n",
    "    pp(stdout)\n",
    "    time.sleep(2)\n",
    "\n",
    "# 디스크 확인\n",
    "def list_new_disks():\n",
    "    print(\"새로운 디스크 확인 중...\")\n",
    "    stdout = cc(\"lsblk -dn -o NAME,SIZE,TYPE | grep disk\")\n",
    "    disks = [line.strip() for line in stdout]\n",
    "    pp(stdout)\n",
    "    return disks\n",
    "\n",
    "# 파티션 생성 및 포맷\n",
    "def create_and_format_partition():\n",
    "    disks = list_new_disks()\n",
    "    for disk in disks:\n",
    "        disk_name = disk.split()[0]\n",
    "        print(f\"\\n디스크 /dev/{disk_name} 파티션 및 포맷 진행...\")\n",
    "        cc(f\"echo -e 'o\\nn\\np\\n1\\n\\n\\nw' | fdisk /dev/{disk_name}\")\n",
    "        cc(f\"mkfs.ext4 /dev/{disk_name}1\")\n",
    "        mount_point = f\"/mnt/{disk_name}1\"\n",
    "        cc(f\"mkdir -p {mount_point}\")\n",
    "        cc(f\"mount /dev/{disk_name}1 {mount_point}\")\n",
    "        print(f\"/dev/{disk_name}1 -> {mount_point} 마운트 완료\")"
   ]
  }
 ],
 "metadata": {
  "kernelspec": {
   "display_name": "Python 3 (ipykernel)",
   "language": "python",
   "name": "python3"
  },
  "language_info": {
   "codemirror_mode": {
    "name": "ipython",
    "version": 3
   },
   "file_extension": ".py",
   "mimetype": "text/x-python",
   "name": "python",
   "nbconvert_exporter": "python",
   "pygments_lexer": "ipython3",
   "version": "3.13.5"
  }
 },
 "nbformat": 4,
 "nbformat_minor": 5
}
