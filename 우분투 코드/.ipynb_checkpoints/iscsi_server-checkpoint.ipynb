{
 "cells": [
  {
   "cell_type": "code",
   "execution_count": null,
   "id": "3e70bda7-8eb9-415b-8599-185e93b029f3",
   "metadata": {},
   "outputs": [],
   "source": [
    "def iscsi_server_setup():\n",
    "    print(\"1. iSCSI Target 소프트웨어 설치\")\n",
    "    stdout = cc(\"apt update && apt install -y targetcli-fb\")\n",
    "    pp(stdout)\n",
    "\n",
    "    print(\"\\n2. 백스토어 디스크 생성 (/dev/sdb 예시)\")\n",
    "    stdout = cc(\"targetcli /backstores/block create name=block1 dev=/dev/sdb\")\n",
    "    pp(stdout)\n",
    "\n",
    "    print(\"\\n3. iSCSI Target 생성\")\n",
    "    stdout = cc(\"targetcli /iscsi create iqn.2025-10.com.example:storage1\")\n",
    "    pp(stdout)\n",
    "\n",
    "    print(\"\\n4. LUN 매핑 (백스토어 -> Target)\")\n",
    "    stdout = cc(\"targetcli /iscsi/iqn.2025-10.com.example:storage1/tpg1/luns create /backstores/block/block1\")\n",
    "    pp(stdout)\n",
    "\n",
    "    print(\"\\n5. ACL 추가 (클라이언트 IP 허용)\") ## 클라이언트에서 acl 확인 후 기재\n",
    "    stdout = cc(\"targetcli /iscsi/iqn.2025-10.com.example:storage1/tpg1/acls create iqn.2025-10.com.example:client1\")\n",
    "    pp(stdout)\n",
    "\n",
    "    print(\"\\n6. 서비스 저장 및 활성화\")\n",
    "    stdout = cc(\"targetcli saveconfig\")\n",
    "    pp(stdout)\n",
    "    stdout = cc(\"systemctl enable target\")\n",
    "    pp(stdout)\n",
    "    stdout = cc(\"systemctl start target\")\n",
    "    pp(stdout)\n",
    "\n",
    "    print(\"\\n✅ iSCSI 서버 설정 완료\")"
   ]
  }
 ],
 "metadata": {
  "kernelspec": {
   "display_name": "Python 3 (ipykernel)",
   "language": "python",
   "name": "python3"
  },
  "language_info": {
   "codemirror_mode": {
    "name": "ipython",
    "version": 3
   },
   "file_extension": ".py",
   "mimetype": "text/x-python",
   "name": "python",
   "nbconvert_exporter": "python",
   "pygments_lexer": "ipython3",
   "version": "3.13.5"
  }
 },
 "nbformat": 4,
 "nbformat_minor": 5
}
