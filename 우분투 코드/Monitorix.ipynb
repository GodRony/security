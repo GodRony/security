{
 "cells": [
  {
   "cell_type": "code",
   "execution_count": null,
   "id": "81966ad4-64a9-40f7-b794-2c15c94e3c2e",
   "metadata": {},
   "outputs": [],
   "source": [
    "def install_monitorix():\n",
    "    cmds = [\n",
    "        \"apt update\",\n",
    "        \"apt install -y monitorix perl\",\n",
    "        \"apt install -y libwww-perl libhttp-server-simple-perl librrds-perl libconfig-general-perl\",\n",
    "        \"apt install -y liblwp-protocol-https-perl libio-socket-ssl-perl libdbi-perl libxml-simple-perl\"\n",
    "    ]\n",
    "\n",
    "    print(\"=== Monitorix 설치 시작 ===\")\n",
    "    for c in cmds:\n",
    "        print(\"=== 실행 중: %s ===\" % c)\n",
    "        pp(cc(c))  # stdout 출력\n",
    "\n",
    "    print(\"=== 서비스 재시작 ===\")\n",
    "    pp(cc(\"systemctl restart monitorix\"))\n",
    "\n",
    "    print(\"=== 서비스 상태 확인 ===\")\n",
    "    pp(cc(\"systemctl status monitorix\"))"
   ]
  }
 ],
 "metadata": {
  "kernelspec": {
   "display_name": "Python 3 (ipykernel)",
   "language": "python",
   "name": "python3"
  },
  "language_info": {
   "codemirror_mode": {
    "name": "ipython",
    "version": 3
   },
   "file_extension": ".py",
   "mimetype": "text/x-python",
   "name": "python",
   "nbconvert_exporter": "python",
   "pygments_lexer": "ipython3",
   "version": "3.13.5"
  }
 },
 "nbformat": 4,
 "nbformat_minor": 5
}
