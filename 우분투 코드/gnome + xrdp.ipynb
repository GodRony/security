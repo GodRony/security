{
 "cells": [
  {
   "cell_type": "code",
   "execution_count": null,
   "id": "5576e050-c072-4ae3-812f-e821edbddd0b",
   "metadata": {},
   "outputs": [],
   "source": [
    "def install_gnome_xrdp(username=\"team1\", password=\"asd123!@\"):\n",
    "    print(\"=== Ubuntu GNOME + XRDP 설치 시작 ===\")\n",
    "\n",
    "    # 시스템 패키지 업데이트\n",
    "    cc(\"apt update -y\")\n",
    "    cc(\"apt upgrade -y\")\n",
    "\n",
    "    # GNOME 설치\n",
    "    print(\"=== GNOME 설치 중 ===\")\n",
    "    cc(\"apt install -y ubuntu-desktop gnome-session gdm3\")\n",
    "    cc(\"systemctl set-default graphical.target\")\n",
    "    cc(\"systemctl isolate graphical.target\")\n",
    "    print(\" GNOME 설치 완료\")\n",
    "\n",
    "    # XRDP 설치\n",
    "    print(\"=== XRDP 설치 중 ===\")\n",
    "    cc(\"apt install -y xrdp\")\n",
    "    cc(\"systemctl enable --now xrdp\")\n",
    "    print(\" XRDP 설치 완료\")\n",
    "\n",
    "    # 사용자 생성\n",
    "    print(f\"=== 사용자 {username} 생성 ===\")\n",
    "    cc(f\"id {username} || useradd -m -s /bin/bash {username}\")\n",
    "    cc(f\"echo '{username}:{password}' | chpasswd\")\n",
    "\n",
    "    # **계정 잠금 해제 추가**\n",
    "    cc(f\"passwd -u {username}\")\n",
    "\n",
    "    print(\" 사용자 생성 및 활성화 완료\")\n",
    "\n",
    "    # XRDP 그룹 권한\n",
    "    print(f\"=== {username} 사용자 XRDP 그룹 추가 ===\")\n",
    "    cc(f\"usermod -aG ssl-cert {username}\")  # Ubuntu XRDP 권한\n",
    "    cc(\"systemctl restart xrdp\")\n",
    "    print(\" 그룹 추가 및 서비스 재시작 완료\")\n",
    "\n",
    "    print(\" 설치 완료! 이제 원격 데스크탑 접속 가능!\")"
   ]
  }
 ],
 "metadata": {
  "kernelspec": {
   "display_name": "Python 3 (ipykernel)",
   "language": "python",
   "name": "python3"
  },
  "language_info": {
   "codemirror_mode": {
    "name": "ipython",
    "version": 3
   },
   "file_extension": ".py",
   "mimetype": "text/x-python",
   "name": "python",
   "nbconvert_exporter": "python",
   "pygments_lexer": "ipython3",
   "version": "3.13.5"
  }
 },
 "nbformat": 4,
 "nbformat_minor": 5
}
